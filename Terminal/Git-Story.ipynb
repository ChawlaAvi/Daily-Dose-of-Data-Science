{
 "cells": [
  {
   "cell_type": "markdown",
   "id": "e38e5291",
   "metadata": {},
   "source": [
    "# Daily-Dose-of-Data-Science\n",
    "\n",
    "[Daily Dose of Data Science](https://avichawla.substack.com) is a publication on Substack that brings together intriguing frameworks, libraries, technologies, and tips that make the life cycle of a Data Science project effortless. \n",
    "\n",
    "Author: Avi Chawla\n",
    "\n",
    "[Medium](https://medium.com/@avi_chawla) | [LinkedIn](https://www.linkedin.com/in/avi-chawla/)\n",
    "\n",
    "# Visualize Commit History of Git Repo With Beautiful Animations\n",
    "\n",
    "Post Link: [Substack](https://avichawla.substack.com/p/visualize-commit-history-of-git-repo)\n",
    "\n",
    "LinkedIn Post: [LinkedIn](https://www.linkedin.com/feed/update/urn:li:ugcPost:7025412060838604800/)"
   ]
  },
  {
   "cell_type": "markdown",
   "id": "0a343495",
   "metadata": {},
   "source": [
    "## Install the requirements here: https://bit.ly/git-story"
   ]
  },
  {
   "cell_type": "code",
   "execution_count": 1,
   "id": "bddf3565",
   "metadata": {},
   "outputs": [
    {
     "data": {
      "text/html": [
       "<video src=\"../_Extras/GitStory video demo.mp4\" controls   height=\"500\">\n",
       "      Your browser does not support the <code>video</code> element.\n",
       "    </video>"
      ],
      "text/plain": [
       "<IPython.core.display.Video object>"
      ]
     },
     "execution_count": 1,
     "metadata": {},
     "output_type": "execute_result"
    }
   ],
   "source": [
    "from IPython.display import Video\n",
    "Video(\"../_Extras/GitStory video demo.mp4\", height=500)"
   ]
  },
  {
   "cell_type": "code",
   "execution_count": null,
   "id": "14160af6",
   "metadata": {},
   "outputs": [],
   "source": []
  }
 ],
 "metadata": {
  "kernelspec": {
   "display_name": "Python 3 (ipykernel)",
   "language": "python",
   "name": "python3"
  },
  "language_info": {
   "codemirror_mode": {
    "name": "ipython",
    "version": 3
   },
   "file_extension": ".py",
   "mimetype": "text/x-python",
   "name": "python",
   "nbconvert_exporter": "python",
   "pygments_lexer": "ipython3",
   "version": "3.9.12"
  }
 },
 "nbformat": 4,
 "nbformat_minor": 5
}
