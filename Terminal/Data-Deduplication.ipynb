{
 "cells": [
  {
   "cell_type": "markdown",
   "id": "8e9ccc72",
   "metadata": {},
   "source": [
    "# Daily-Dose-of-Data-Science\n",
    "\n",
    "[Daily Dose of Data Science](https://avichawla.substack.com) is a publication on Substack that brings together intriguing frameworks, libraries, technologies, and tips that make the life cycle of a Data Science project effortless. \n",
    "\n",
    "Author: Avi Chawla\n",
    "\n",
    "[Medium](https://medium.com/@avi_chawla) | [LinkedIn](https://www.linkedin.com/in/avi-chawla/)\n",
    "\n",
    "# How Would You Identify Fuzzy Duplicates In A Data With Million Records?\n",
    "\n",
    "Post Link: [Substack](https://avichawla.substack.com/p/how-would-you-identify-fuzzy-duplicates)\n",
    "\n",
    "LinkedIn Post: [LinkedIn](https://www.linkedin.com/posts/avi-chawla_python-datascience-artificialintelliegence-activity-7024333877582180352-KL2A?utm_source=share&utm_medium=member_desktop)"
   ]
  },
  {
   "cell_type": "code",
   "execution_count": 1,
   "id": "0ec94e10",
   "metadata": {
    "collapsed": true
   },
   "outputs": [
    {
     "name": "stdout",
     "output_type": "stream",
     "text": [
      "Requirement already satisfied: csvdedupe in /Users/avi/anaconda3/lib/python3.9/site-packages (0.1.20)\n",
      "Requirement already satisfied: dedupe<2,>=1.6 in /Users/avi/anaconda3/lib/python3.9/site-packages (from csvdedupe) (1.10.0)\n",
      "Requirement already satisfied: future>=0.14 in /Users/avi/anaconda3/lib/python3.9/site-packages (from csvdedupe) (0.18.2)\n",
      "Requirement already satisfied: rlr>=2.4.3 in /Users/avi/anaconda3/lib/python3.9/site-packages (from dedupe<2,>=1.6->csvdedupe) (2.4.6)\n",
      "Requirement already satisfied: zope.index in /Users/avi/anaconda3/lib/python3.9/site-packages (from dedupe<2,>=1.6->csvdedupe) (5.2.1)\n",
      "Requirement already satisfied: dedupe-variable-datetime in /Users/avi/anaconda3/lib/python3.9/site-packages (from dedupe<2,>=1.6->csvdedupe) (0.1.5)\n",
      "Requirement already satisfied: affinegap>=1.3 in /Users/avi/anaconda3/lib/python3.9/site-packages (from dedupe<2,>=1.6->csvdedupe) (1.12)\n",
      "Requirement already satisfied: highered>=0.2.0 in /Users/avi/anaconda3/lib/python3.9/site-packages (from dedupe<2,>=1.6->csvdedupe) (0.2.1)\n",
      "Requirement already satisfied: fastcluster in /Users/avi/anaconda3/lib/python3.9/site-packages (from dedupe<2,>=1.6->csvdedupe) (1.2.6)\n",
      "Requirement already satisfied: doublemetaphone in /Users/avi/anaconda3/lib/python3.9/site-packages (from dedupe<2,>=1.6->csvdedupe) (1.1)\n",
      "Requirement already satisfied: BTrees>=4.1.4 in /Users/avi/anaconda3/lib/python3.9/site-packages (from dedupe<2,>=1.6->csvdedupe) (4.11.3)\n",
      "Requirement already satisfied: dedupe-hcluster in /Users/avi/anaconda3/lib/python3.9/site-packages (from dedupe<2,>=1.6->csvdedupe) (0.3.9)\n",
      "Requirement already satisfied: numpy>=1.13 in /Users/avi/anaconda3/lib/python3.9/site-packages (from dedupe<2,>=1.6->csvdedupe) (1.21.6)\n",
      "Requirement already satisfied: Levenshtein-search in /Users/avi/anaconda3/lib/python3.9/site-packages (from dedupe<2,>=1.6->csvdedupe) (1.4.6)\n",
      "Requirement already satisfied: haversine>=0.4.1 in /Users/avi/anaconda3/lib/python3.9/site-packages (from dedupe<2,>=1.6->csvdedupe) (2.7.0)\n",
      "Requirement already satisfied: simplecosine>=1.2 in /Users/avi/anaconda3/lib/python3.9/site-packages (from dedupe<2,>=1.6->csvdedupe) (1.2)\n",
      "Requirement already satisfied: categorical-distance>=1.9 in /Users/avi/anaconda3/lib/python3.9/site-packages (from dedupe<2,>=1.6->csvdedupe) (1.9)\n",
      "Requirement already satisfied: zope.interface>=5.0.0 in /Users/avi/anaconda3/lib/python3.9/site-packages (from BTrees>=4.1.4->dedupe<2,>=1.6->csvdedupe) (5.4.0)\n",
      "Requirement already satisfied: persistent>=4.1.0 in /Users/avi/anaconda3/lib/python3.9/site-packages (from BTrees>=4.1.4->dedupe<2,>=1.6->csvdedupe) (5.0)\n",
      "Requirement already satisfied: pyhacrf-datamade>=0.2.0 in /Users/avi/anaconda3/lib/python3.9/site-packages (from highered>=0.2.0->dedupe<2,>=1.6->csvdedupe) (0.2.6)\n",
      "Requirement already satisfied: cffi in /Users/avi/anaconda3/lib/python3.9/site-packages (from persistent>=4.1.0->BTrees>=4.1.4->dedupe<2,>=1.6->csvdedupe) (1.15.0)\n",
      "Requirement already satisfied: PyLBFGS>=0.1.3 in /Users/avi/anaconda3/lib/python3.9/site-packages (from pyhacrf-datamade>=0.2.0->highered>=0.2.0->dedupe<2,>=1.6->csvdedupe) (0.2.0.14)\n",
      "Requirement already satisfied: setuptools in /Users/avi/anaconda3/lib/python3.9/site-packages (from zope.interface>=5.0.0->BTrees>=4.1.4->dedupe<2,>=1.6->csvdedupe) (61.2.0)\n",
      "Requirement already satisfied: pycparser in /Users/avi/anaconda3/lib/python3.9/site-packages (from cffi->persistent>=4.1.0->BTrees>=4.1.4->dedupe<2,>=1.6->csvdedupe) (2.21)\n",
      "Requirement already satisfied: datetime-distance in /Users/avi/anaconda3/lib/python3.9/site-packages (from dedupe-variable-datetime->dedupe<2,>=1.6->csvdedupe) (0.1.3)\n",
      "Requirement already satisfied: python-dateutil>=2.6.0 in /Users/avi/anaconda3/lib/python3.9/site-packages (from datetime-distance->dedupe-variable-datetime->dedupe<2,>=1.6->csvdedupe) (2.8.2)\n",
      "Requirement already satisfied: six>=1.5 in /Users/avi/anaconda3/lib/python3.9/site-packages (from python-dateutil>=2.6.0->datetime-distance->dedupe-variable-datetime->dedupe<2,>=1.6->csvdedupe) (1.16.0)\n"
     ]
    }
   ],
   "source": [
    "!pip install csvdedupe"
   ]
  },
  {
   "cell_type": "code",
   "execution_count": 2,
   "id": "846d9808",
   "metadata": {},
   "outputs": [],
   "source": [
    "import pandas as pd"
   ]
  },
  {
   "cell_type": "code",
   "execution_count": 3,
   "id": "8d792811",
   "metadata": {},
   "outputs": [
    {
     "data": {
      "application/javascript": [
       "\n",
       "        if (window._pyforest_update_imports_cell) { window._pyforest_update_imports_cell('import numpy as np'); }\n",
       "    "
      ],
      "text/plain": [
       "<IPython.core.display.Javascript object>"
      ]
     },
     "metadata": {},
     "output_type": "display_data"
    },
    {
     "data": {
      "application/javascript": [
       "\n",
       "        if (window._pyforest_update_imports_cell) { window._pyforest_update_imports_cell('import numpy as np'); }\n",
       "    "
      ],
      "text/plain": [
       "<IPython.core.display.Javascript object>"
      ]
     },
     "metadata": {},
     "output_type": "display_data"
    },
    {
     "data": {
      "text/html": [
       "<div>\n",
       "<style scoped>\n",
       "    .dataframe tbody tr th:only-of-type {\n",
       "        vertical-align: middle;\n",
       "    }\n",
       "\n",
       "    .dataframe tbody tr th {\n",
       "        vertical-align: top;\n",
       "    }\n",
       "\n",
       "    .dataframe thead th {\n",
       "        text-align: right;\n",
       "    }\n",
       "</style>\n",
       "<table border=\"1\" class=\"dataframe\">\n",
       "  <thead>\n",
       "    <tr style=\"text-align: right;\">\n",
       "      <th></th>\n",
       "      <th>First_Name</th>\n",
       "      <th>Last_Name</th>\n",
       "      <th>Address</th>\n",
       "      <th>Phone</th>\n",
       "    </tr>\n",
       "  </thead>\n",
       "  <tbody>\n",
       "    <tr>\n",
       "      <th>0</th>\n",
       "      <td>Daniel</td>\n",
       "      <td>Lopez</td>\n",
       "      <td>719 Greene St. East Rhonda</td>\n",
       "      <td>9371184929</td>\n",
       "    </tr>\n",
       "    <tr>\n",
       "      <th>1</th>\n",
       "      <td>Daniel</td>\n",
       "      <td>NaN</td>\n",
       "      <td>719 Green Street East Rhoda</td>\n",
       "      <td>93711-84929</td>\n",
       "    </tr>\n",
       "    <tr>\n",
       "      <th>2</th>\n",
       "      <td>Alan</td>\n",
       "      <td>Martin</td>\n",
       "      <td>982 Carol Harbors Apart.</td>\n",
       "      <td>7481919235</td>\n",
       "    </tr>\n",
       "    <tr>\n",
       "      <th>3</th>\n",
       "      <td>Alan Martin</td>\n",
       "      <td>NaN</td>\n",
       "      <td>982 Carol Aparments</td>\n",
       "      <td>748-191-9235</td>\n",
       "    </tr>\n",
       "    <tr>\n",
       "      <th>4</th>\n",
       "      <td>Philip</td>\n",
       "      <td>Owens</td>\n",
       "      <td>2578 Banks Ford</td>\n",
       "      <td>869-6922x9581</td>\n",
       "    </tr>\n",
       "    <tr>\n",
       "      <th>5</th>\n",
       "      <td>Shannon</td>\n",
       "      <td>White</td>\n",
       "      <td>USCGC Molina</td>\n",
       "      <td>(150)082-7982</td>\n",
       "    </tr>\n",
       "    <tr>\n",
       "      <th>6</th>\n",
       "      <td>Julia</td>\n",
       "      <td>Anderson</td>\n",
       "      <td>09162 Mason Mnts.</td>\n",
       "      <td>698-1590x3236</td>\n",
       "    </tr>\n",
       "    <tr>\n",
       "      <th>7</th>\n",
       "      <td>Juliya</td>\n",
       "      <td>Anderrson</td>\n",
       "      <td>9162 Mason Street Mountain</td>\n",
       "      <td>69815903236</td>\n",
       "    </tr>\n",
       "  </tbody>\n",
       "</table>\n",
       "</div>"
      ],
      "text/plain": [
       "    First_Name  Last_Name                      Address          Phone\n",
       "0       Daniel      Lopez   719 Greene St. East Rhonda     9371184929\n",
       "1       Daniel        NaN  719 Green Street East Rhoda    93711-84929\n",
       "2         Alan     Martin     982 Carol Harbors Apart.     7481919235\n",
       "3  Alan Martin        NaN          982 Carol Aparments   748-191-9235\n",
       "4       Philip      Owens              2578 Banks Ford  869-6922x9581\n",
       "5      Shannon      White                 USCGC Molina  (150)082-7982\n",
       "6        Julia   Anderson            09162 Mason Mnts.  698-1590x3236\n",
       "7       Juliya  Anderrson   9162 Mason Street Mountain    69815903236"
      ]
     },
     "execution_count": 3,
     "metadata": {},
     "output_type": "execute_result"
    }
   ],
   "source": [
    "data = [[\"Daniel\", \"Lopez\", \"719 Greene St. East Rhonda\", \"9371184929\"],\n",
    "        [\"Daniel\", np.NaN, \"719 Green Street East Rhoda\", \"93711-84929\"],\n",
    "        [\"Alan\", \"Martin\", \"982 Carol Harbors Apart.\", \"7481919235\"],\n",
    "        [\"Alan Martin\", np.NaN, \"982 Carol Aparments\", \"748-191-9235\"],\n",
    "        [\"Philip\", \"Owens\", \"2578 Banks Ford\", \"869-6922x9581\"],\n",
    "        [\"Shannon\", \"White\", \"USCGC Molina\", \"(150)082-7982\"],\n",
    "        [\"Julia\", \"Anderson\", \"09162 Mason Mnts.\", \"698-1590x3236\"],\n",
    "        [\"Juliya\", \"Anderrson\", \"9162 Mason Street Mountain\", \"69815903236\"]\n",
    "       ]\n",
    "\n",
    "df = pd.DataFrame(data, columns = [\"First_Name\", \"Last_Name\", \"Address\", \"Phone\"])\n",
    "df.to_csv(\"../_Datasets/input_data.csv\", index = False)\n",
    "df"
   ]
  },
  {
   "cell_type": "code",
   "execution_count": null,
   "id": "d9f38a81",
   "metadata": {},
   "outputs": [],
   "source": [
    "## Run in command line:\n",
    "csvdedupe ../_Datasets/input_data.csv \\\n",
    "          --field_names First_Name Last_Name Address Phone \\\n",
    "          --output_file ../_Datasets/output_data.csv"
   ]
  },
  {
   "cell_type": "markdown",
   "id": "c282e8db",
   "metadata": {},
   "source": [
    "More info: https://github.com/dedupeio/csvdedupe/issues"
   ]
  },
  {
   "cell_type": "code",
   "execution_count": null,
   "id": "5d487bba",
   "metadata": {},
   "outputs": [],
   "source": []
  }
 ],
 "metadata": {
  "kernelspec": {
   "display_name": "Python 3 (ipykernel)",
   "language": "python",
   "name": "python3"
  },
  "language_info": {
   "codemirror_mode": {
    "name": "ipython",
    "version": 3
   },
   "file_extension": ".py",
   "mimetype": "text/x-python",
   "name": "python",
   "nbconvert_exporter": "python",
   "pygments_lexer": "ipython3",
   "version": "3.9.12"
  }
 },
 "nbformat": 4,
 "nbformat_minor": 5
}
