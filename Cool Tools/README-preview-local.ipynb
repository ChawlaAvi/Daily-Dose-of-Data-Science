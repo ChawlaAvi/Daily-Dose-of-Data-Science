{
 "cells": [
  {
   "cell_type": "markdown",
   "id": "22b70336",
   "metadata": {},
   "source": [
    "# Daily-Dose-of-Data-Science\n",
    "\n",
    "[Daily Dose of Data Science](https://avichawla.substack.com) is a publication on Substack that brings together intriguing frameworks, libraries, technologies, and tips that make the life cycle of a Data Science project effortless. \n",
    "\n",
    "Author: Avi Chawla\n",
    "\n",
    "[Medium](https://medium.com/@avi_chawla) | [LinkedIn](https://www.linkedin.com/in/avi-chawla/)\n",
    "\n",
    "# Preview Your README File Locally In GitHub Style\n",
    "\n",
    "Post Link: [Substack](https://avichawla.substack.com/p/preview-your-readme-file-locally)\n",
    "\n",
    "LinkedIn Post: [LinkedIn](https://www.linkedin.com/posts/avi-chawla_python-github-activity-7026133006096416768-ZN5i?utm_source=share&utm_medium=member_desktop)"
   ]
  },
  {
   "cell_type": "code",
   "execution_count": 2,
   "id": "f78d4a38",
   "metadata": {},
   "outputs": [
    {
     "data": {
      "text/html": [
       "<video src=\"../_Extras/grip command.mp4\" controls  width=\"600\" >\n",
       "      Your browser does not support the <code>video</code> element.\n",
       "    </video>"
      ],
      "text/plain": [
       "<IPython.core.display.Video object>"
      ]
     },
     "execution_count": 2,
     "metadata": {},
     "output_type": "execute_result"
    }
   ],
   "source": [
    "from IPython.display import Video\n",
    "Video(\"../_Extras/grip command.mp4\", width=600)"
   ]
  },
  {
   "cell_type": "markdown",
   "id": "0065ab41",
   "metadata": {},
   "source": [
    "Read more: https://github.com/joeyespo/grip"
   ]
  }
 ],
 "metadata": {
  "kernelspec": {
   "display_name": "Python 3 (ipykernel)",
   "language": "python",
   "name": "python3"
  },
  "language_info": {
   "codemirror_mode": {
    "name": "ipython",
    "version": 3
   },
   "file_extension": ".py",
   "mimetype": "text/x-python",
   "name": "python",
   "nbconvert_exporter": "python",
   "pygments_lexer": "ipython3",
   "version": "3.9.12"
  }
 },
 "nbformat": 4,
 "nbformat_minor": 5
}
