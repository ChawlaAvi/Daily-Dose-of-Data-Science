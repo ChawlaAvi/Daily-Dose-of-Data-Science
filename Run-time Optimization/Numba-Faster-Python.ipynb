{
 "cells": [
  {
   "cell_type": "markdown",
   "id": "22441fee",
   "metadata": {},
   "source": [
    "# Daily-Dose-of-Data-Science\n",
    "\n",
    "[Daily Dose of Data Science](https://avichawla.substack.com) is a publication on Substack that brings together intriguing frameworks, libraries, technologies, and tips that make the life cycle of a Data Science project effortless. \n",
    "\n",
    "Author: Avi Chawla\n",
    "\n",
    "[Medium](https://medium.com/@avi_chawla) | [LinkedIn](https://www.linkedin.com/in/avi-chawla/)\n",
    "\n",
    "# A Single Line That Will Make Your Python Code Faster\n",
    "\n",
    "Post Link: [Substack](https://avichawla.substack.com/p/faster-python-with-one-line)\n",
    "\n",
    "LinkedIn Post: [LinkedIn](https://www.linkedin.com/posts/avi-chawla_python-activity-7023590038554750977-EuGf?utm_source=share&utm_medium=member_desktop)"
   ]
  },
  {
   "cell_type": "code",
   "execution_count": 1,
   "id": "151a1b3c",
   "metadata": {},
   "outputs": [
    {
     "name": "stdout",
     "output_type": "stream",
     "text": [
      "Requirement already satisfied: numba in /Users/avi/anaconda3/lib/python3.9/site-packages (0.55.1)\r\n",
      "Requirement already satisfied: llvmlite<0.39,>=0.38.0rc1 in /Users/avi/anaconda3/lib/python3.9/site-packages (from numba) (0.38.0)\r\n",
      "Requirement already satisfied: setuptools in /Users/avi/anaconda3/lib/python3.9/site-packages (from numba) (61.2.0)\r\n",
      "Requirement already satisfied: numpy<1.22,>=1.18 in /Users/avi/anaconda3/lib/python3.9/site-packages (from numba) (1.21.6)\r\n"
     ]
    }
   ],
   "source": [
    "!pip install numba"
   ]
  },
  {
   "cell_type": "code",
   "execution_count": 2,
   "id": "681fe920",
   "metadata": {},
   "outputs": [],
   "source": [
    "from numba import njit"
   ]
  },
  {
   "cell_type": "code",
   "execution_count": 3,
   "id": "0b30bfae",
   "metadata": {},
   "outputs": [],
   "source": [
    "def func_without_numba():\n",
    "    result = []\n",
    "    for i in range(10000):\n",
    "        for j in range(10000):\n",
    "            if (i+j)%11 == 0:\n",
    "                result.append((i,j))"
   ]
  },
  {
   "cell_type": "code",
   "execution_count": 4,
   "id": "be4e8853",
   "metadata": {},
   "outputs": [
    {
     "name": "stdout",
     "output_type": "stream",
     "text": [
      "CPU times: user 7.71 s, sys: 419 ms, total: 8.13 s\n",
      "Wall time: 8.29 s\n"
     ]
    }
   ],
   "source": [
    "%time func_without_numba()"
   ]
  },
  {
   "cell_type": "code",
   "execution_count": 5,
   "id": "fc50fff6",
   "metadata": {},
   "outputs": [],
   "source": [
    "@njit\n",
    "def func_with_numba():\n",
    "    result = []\n",
    "    for i in range(10000):\n",
    "        for j in range(10000):\n",
    "            if (i+j)%11 == 0:\n",
    "                result.append((i,j))"
   ]
  },
  {
   "cell_type": "code",
   "execution_count": 6,
   "id": "3d56daf0",
   "metadata": {},
   "outputs": [
    {
     "name": "stdout",
     "output_type": "stream",
     "text": [
      "CPU times: user 310 ms, sys: 90 ms, total: 400 ms\n",
      "Wall time: 619 ms\n"
     ]
    }
   ],
   "source": [
    "%time func_with_numba()"
   ]
  },
  {
   "cell_type": "code",
   "execution_count": 7,
   "id": "2a72a4f5",
   "metadata": {},
   "outputs": [
    {
     "name": "stdout",
     "output_type": "stream",
     "text": [
      "CPU times: user 154 ms, sys: 38.3 ms, total: 193 ms\n",
      "Wall time: 195 ms\n"
     ]
    }
   ],
   "source": [
    "%time func_with_numba() # Even faster second time"
   ]
  }
 ],
 "metadata": {
  "kernelspec": {
   "display_name": "Python 3 (ipykernel)",
   "language": "python",
   "name": "python3"
  },
  "language_info": {
   "codemirror_mode": {
    "name": "ipython",
    "version": 3
   },
   "file_extension": ".py",
   "mimetype": "text/x-python",
   "name": "python",
   "nbconvert_exporter": "python",
   "pygments_lexer": "ipython3",
   "version": "3.9.12"
  }
 },
 "nbformat": 4,
 "nbformat_minor": 5
}
