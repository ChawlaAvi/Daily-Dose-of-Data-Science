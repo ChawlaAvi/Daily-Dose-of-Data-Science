{
 "cells": [
  {
   "cell_type": "markdown",
   "id": "cd8845b9",
   "metadata": {},
   "source": [
    "# Daily-Dose-of-Data-Science\n",
    "\n",
    "[Daily Dose of Data Science](https://avichawla.substack.com) is a publication on Substack that brings together intriguing frameworks, libraries, technologies, and tips that make the life cycle of a Data Science project effortless. \n",
    "\n",
    "Author: Avi Chawla\n",
    "\n",
    "[Medium](https://medium.com/@avi_chawla) | [LinkedIn](https://www.linkedin.com/in/avi-chawla/)\n",
    "\n",
    "# Perfplot: Measure, Visualize and Compare Run-time With Ease\n",
    "\n",
    "Post Link: [Substack](https://avichawla.substack.com/p/perfplot-measure-visualize-and-compare)\n",
    "\n",
    "LinkedIn Post: [LinkedIn](https://www.linkedin.com/feed/update/urn:li:activity:7025059960170364928/)"
   ]
  },
  {
   "cell_type": "code",
   "execution_count": 1,
   "id": "b2a8d8f3",
   "metadata": {
    "collapsed": true
   },
   "outputs": [
    {
     "name": "stdout",
     "output_type": "stream",
     "text": [
      "Requirement already satisfied: perfplot in /Users/avi/anaconda3/lib/python3.9/site-packages (0.11.1)\n",
      "Requirement already satisfied: matplotx in /Users/avi/anaconda3/lib/python3.9/site-packages (from perfplot) (0.3.10)\n",
      "Requirement already satisfied: matplotlib in /Users/avi/anaconda3/lib/python3.9/site-packages (from perfplot) (3.5.3)\n",
      "Requirement already satisfied: rich in /Users/avi/anaconda3/lib/python3.9/site-packages (from perfplot) (12.5.1)\n",
      "Requirement already satisfied: x21<0.5.0,>=0.4.1 in /Users/avi/anaconda3/lib/python3.9/site-packages (from perfplot) (0.4.1)\n",
      "Requirement already satisfied: numpy in /Users/avi/anaconda3/lib/python3.9/site-packages (from perfplot) (1.21.6)\n",
      "Requirement already satisfied: python-dateutil>=2.7 in /Users/avi/anaconda3/lib/python3.9/site-packages (from matplotlib->perfplot) (2.8.2)\n",
      "Requirement already satisfied: fonttools>=4.22.0 in /Users/avi/anaconda3/lib/python3.9/site-packages (from matplotlib->perfplot) (4.25.0)\n",
      "Requirement already satisfied: kiwisolver>=1.0.1 in /Users/avi/anaconda3/lib/python3.9/site-packages (from matplotlib->perfplot) (1.3.2)\n",
      "Requirement already satisfied: cycler>=0.10 in /Users/avi/anaconda3/lib/python3.9/site-packages (from matplotlib->perfplot) (0.11.0)\n",
      "Requirement already satisfied: pillow>=6.2.0 in /Users/avi/anaconda3/lib/python3.9/site-packages (from matplotlib->perfplot) (9.4.0)\n",
      "Requirement already satisfied: packaging>=20.0 in /Users/avi/anaconda3/lib/python3.9/site-packages (from matplotlib->perfplot) (21.3)\n",
      "Requirement already satisfied: pyparsing>=2.2.1 in /Users/avi/anaconda3/lib/python3.9/site-packages (from matplotlib->perfplot) (3.0.4)\n",
      "Requirement already satisfied: six>=1.5 in /Users/avi/anaconda3/lib/python3.9/site-packages (from python-dateutil>=2.7->matplotlib->perfplot) (1.16.0)\n",
      "Requirement already satisfied: commonmark<0.10.0,>=0.9.0 in /Users/avi/anaconda3/lib/python3.9/site-packages (from rich->perfplot) (0.9.1)\n",
      "Requirement already satisfied: pygments<3.0.0,>=2.6.0 in /Users/avi/anaconda3/lib/python3.9/site-packages (from rich->perfplot) (2.11.2)\n"
     ]
    }
   ],
   "source": [
    "!pip install perfplot"
   ]
  },
  {
   "cell_type": "code",
   "execution_count": 2,
   "id": "1cf1986d",
   "metadata": {},
   "outputs": [
    {
     "data": {
      "application/vnd.jupyter.widget-view+json": {
       "model_id": "ddad4c08591a4921980f5b0cef92c354",
       "version_major": 2,
       "version_minor": 0
      },
      "text/plain": [
       "Output()"
      ]
     },
     "metadata": {},
     "output_type": "display_data"
    },
    {
     "data": {
      "text/html": [
       "<pre style=\"white-space:pre;overflow-x:auto;line-height:normal;font-family:Menlo,'DejaVu Sans Mono',consolas,'Courier New',monospace\"></pre>\n"
      ],
      "text/plain": []
     },
     "metadata": {},
     "output_type": "display_data"
    },
    {
     "data": {
      "text/html": [
       "<pre style=\"white-space:pre;overflow-x:auto;line-height:normal;font-family:Menlo,'DejaVu Sans Mono',consolas,'Courier New',monospace\">\n",
       "</pre>\n"
      ],
      "text/plain": [
       "\n"
      ]
     },
     "metadata": {},
     "output_type": "display_data"
    },
    {
     "data": {
      "image/png": "[encoded data removed]",
      "text/plain": [
       "<Figure size 432x288 with 1 Axes>"
      ]
     },
     "metadata": {
      "needs_background": "dark"
     },
     "output_type": "display_data"
    }
   ],
   "source": [
    "import numpy as np\n",
    "import perfplot\n",
    "\n",
    "perfplot.plot(\n",
    "    setup=lambda n: np.random.rand(n),  # or setup=np.random.rand\n",
    "    kernels=[\n",
    "        lambda a: np.c_[a, a],\n",
    "        lambda a: np.stack([a, a]).T,\n",
    "        lambda a: np.vstack([a, a]).T,\n",
    "        lambda a: np.column_stack([a, a]),\n",
    "    ],\n",
    "    labels=[\"c_\", \"stack\", \"vstack\", \"col_stack\"],\n",
    "    n_range=[2**k for k in range(5,20)],\n",
    ")"
   ]
  }
 ],
 "metadata": {
  "kernelspec": {
   "display_name": "Python 3 (ipykernel)",
   "language": "python",
   "name": "python3"
  },
  "language_info": {
   "codemirror_mode": {
    "name": "ipython",
    "version": 3
   },
   "file_extension": ".py",
   "mimetype": "text/x-python",
   "name": "python",
   "nbconvert_exporter": "python",
   "pygments_lexer": "ipython3",
   "version": "3.9.12"
  }
 },
 "nbformat": 4,
 "nbformat_minor": 5
}
